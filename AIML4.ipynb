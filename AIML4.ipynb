{
 "cells": [
  {
   "cell_type": "code",
   "execution_count": 35,
   "id": "77164d03-6890-46c3-b3fb-30a7d5d26828",
   "metadata": {},
   "outputs": [
    {
     "name": "stdout",
     "output_type": "stream",
     "text": [
      "Requirement already satisfied: scikit-learn in c:\\users\\mehul bisht\\appdata\\roaming\\python\\python312\\site-packages (1.5.1)\n",
      "Requirement already satisfied: numpy>=1.19.5 in c:\\users\\mehul bisht\\appdata\\roaming\\python\\python312\\site-packages (from scikit-learn) (2.1.0)\n",
      "Requirement already satisfied: scipy>=1.6.0 in c:\\users\\mehul bisht\\appdata\\roaming\\python\\python312\\site-packages (from scikit-learn) (1.14.1)\n",
      "Requirement already satisfied: joblib>=1.2.0 in c:\\users\\mehul bisht\\appdata\\roaming\\python\\python312\\site-packages (from scikit-learn) (1.4.2)\n",
      "Requirement already satisfied: threadpoolctl>=3.1.0 in c:\\users\\mehul bisht\\appdata\\roaming\\python\\python312\\site-packages (from scikit-learn) (3.5.0)\n"
     ]
    }
   ],
   "source": [
    "import pandas as pd\n",
    "!pip install scikit-learn\n",
    "from sklearn.preprocessing import StandardScaler, OneHotEncoder\n",
    "#This imports the StandardScaler and OneHot Encoder classes from sklearn.preprocessing.\n",
    "#StandardScaler is used for feature scaling (normalizing numerical data),\n",
    "# and OneHotEncoder is used for converting categorical variables into a format suitable for machine learning (one-hot encoding)."
   ]
  },
  {
   "cell_type": "code",
   "execution_count": 51,
   "id": "36e4b6bb-2f4b-4a61-beb4-e8452e111cca",
   "metadata": {},
   "outputs": [
    {
     "name": "stdout",
     "output_type": "stream",
     "text": [
      "Original Dataframe:\n",
      "   color  size  price\n",
      "0    red    10     20\n",
      "1   blue    15     30\n",
      "2  green    20     40\n",
      "3    red    12     25 \n",
      "\n"
     ]
    }
   ],
   "source": [
    "#sample date \n",
    "data = {\n",
    "    'color' : ['red', 'blue', 'green', 'red', ],\n",
    "    'size': [10, 15, 20, 12],\n",
    "    'price': [20, 30, 40, 25]\n",
    "}\n",
    "df = pd.DataFrame (data)\n",
    "# data: This creates a dictionary with three keys (color, size, and price),\n",
    "# where the values are lists representine different observations for each feature.\n",
    "#Display the original data\n",
    "print('Original Dataframe:')\n",
    "print(df, \"\\n\")"
   ]
  },
  {
   "cell_type": "code",
   "execution_count": 53,
   "id": "86f907d3-06f0-4152-9067-3fdb79a4b963",
   "metadata": {},
   "outputs": [
    {
     "name": "stdout",
     "output_type": "stream",
     "text": [
      "Dataframe after feature scaling (StandardScaler): \n",
      "   color      size     price\n",
      "0    red -1.128330 -1.183216\n",
      "1   blue  0.199117  0.169031\n",
      "2  green  1.526564  1.521278\n",
      "3    red -0.597351 -0.507093 \n",
      "\n"
     ]
    }
   ],
   "source": [
    "#feature scaling\n",
    "scalar=StandardScaler()\n",
    "df[['size','price']]=scalar.fit_transform(df[['size','price']])\n",
    "#Display scaled data\n",
    "print(\"Dataframe after feature scaling (StandardScaler): \")\n",
    "print(df, \"\\n\")"
   ]
  },
  {
   "cell_type": "code",
   "execution_count": 55,
   "id": "652d30c5-8c87-4b3d-b4e4-eab9c5969e49",
   "metadata": {},
   "outputs": [
    {
     "name": "stdout",
     "output_type": "stream",
     "text": [
      "One-Hot Encoded Dataframe: \n",
      "[[0. 0. 1.]\n",
      " [1. 0. 0.]\n",
      " [0. 1. 0.]\n",
      " [0. 0. 1.]] \n",
      "\n",
      "   color_blue  color_green  color_red\n",
      "0         0.0          0.0        1.0\n",
      "1         1.0          0.0        0.0\n",
      "2         0.0          1.0        0.0\n",
      "3         0.0          0.0        1.0 \n",
      "\n"
     ]
    }
   ],
   "source": [
    "#One hot encoding\n",
    "encoder=OneHotEncoder()\n",
    "encoded_data=encoder.fit_transform(df[['color']]).toarray()\n",
    "encoded_df=pd.DataFrame(encoded_data,columns=encoder.get_feature_names_out([\"color\"]))\n",
    "print(\"One-Hot Encoded Dataframe: \")\n",
    "print(encoded_data, \"\\n\")\n",
    "print(encoded_df, \"\\n\")"
   ]
  },
  {
   "cell_type": "code",
   "execution_count": 57,
   "id": "ef07cdf7-8514-45c8-b924-1f1bec923e31",
   "metadata": {},
   "outputs": [
    {
     "name": "stdout",
     "output_type": "stream",
     "text": [
      "Final DataFrame after Merging One-Hot Encoded Data: \n",
      "       size     price  color_blue  color_green  color_red\n",
      "0 -1.128330 -1.183216         0.0          0.0        1.0\n",
      "1  0.199117  0.169031         1.0          0.0        0.0\n",
      "2  1.526564  1.521278         0.0          1.0        0.0\n",
      "3 -0.597351 -0.507093         0.0          0.0        1.0 \n",
      "\n"
     ]
    }
   ],
   "source": [
    "final_df=pd.concat([df.drop('color', axis=1), encoded_df], axis=1)\n",
    "print(\"Final DataFrame after Merging One-Hot Encoded Data: \")\n",
    "print(final_df, '\\n')"
   ]
  },
  {
   "cell_type": "code",
   "execution_count": null,
   "id": "e7fa46e2-601c-420f-ae9e-701ecd9ba2a0",
   "metadata": {},
   "outputs": [],
   "source": []
  }
 ],
 "metadata": {
  "kernelspec": {
   "display_name": "Python 3 (ipykernel)",
   "language": "python",
   "name": "python3"
  },
  "language_info": {
   "codemirror_mode": {
    "name": "ipython",
    "version": 3
   },
   "file_extension": ".py",
   "mimetype": "text/x-python",
   "name": "python",
   "nbconvert_exporter": "python",
   "pygments_lexer": "ipython3",
   "version": "3.12.3"
  }
 },
 "nbformat": 4,
 "nbformat_minor": 5
}
